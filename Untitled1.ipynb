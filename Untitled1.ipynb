{
 "metadata": {
  "name": "",
  "signature": "sha256:c2c2a2026215b953a4139657c7d9bb18f18fbaac01742b9d15c440d1cb73cc5b"
 },
 "nbformat": 3,
 "nbformat_minor": 0,
 "worksheets": [
  {
   "cells": [
    {
     "cell_type": "code",
     "collapsed": false,
     "input": [
      "!git add .\n"
     ],
     "language": "python",
     "metadata": {},
     "outputs": [],
     "prompt_number": 1
    },
    {
     "cell_type": "code",
     "collapsed": false,
     "input": [
      "!git config --global user.name \"Xinyi Li\"\n",
      "!git config --global user.name chrislixystat@gmail.com"
     ],
     "language": "python",
     "metadata": {},
     "outputs": []
    },
    {
     "cell_type": "code",
     "collapsed": false,
     "input": [
      "!git commit -m \"try\""
     ],
     "language": "python",
     "metadata": {},
     "outputs": [
      {
       "output_type": "stream",
       "stream": "stdout",
       "text": [
        "[master 7e1bab5] try\r\n",
        " Committer: root <root@ubuntu14-generic-template-01.oit.duke.edu>\r\n",
        "Your name and email address were configured automatically based\r\n",
        "on your username and hostname. Please check that they are accurate.\r\n",
        "You can suppress this message by setting them explicitly:\r\n",
        "\r\n",
        "    git config --global user.name \"Your Name\"\r\n",
        "    git config --global user.email you@example.com\r\n",
        "\r\n",
        "After doing this, you may fix the identity used for this commit with:\r\n",
        "\r\n",
        "    git commit --amend --reset-author\r\n",
        "\r\n",
        " 3 files changed, 63 insertions(+), 18 deletions(-)\r\n"
       ]
      }
     ],
     "prompt_number": 1
    },
    {
     "cell_type": "code",
     "collapsed": false,
     "input": [
      "!git push"
     ],
     "language": "python",
     "metadata": {},
     "outputs": []
    },
    {
     "cell_type": "code",
     "collapsed": false,
     "input": [
      "!git pull"
     ],
     "language": "python",
     "metadata": {},
     "outputs": [
      {
       "output_type": "stream",
       "stream": "stdout",
       "text": [
        "Already up-to-date.\r\n"
       ]
      }
     ],
     "prompt_number": 1
    },
    {
     "cell_type": "code",
     "collapsed": false,
     "input": [],
     "language": "python",
     "metadata": {},
     "outputs": []
    }
   ],
   "metadata": {}
  }
 ]
}