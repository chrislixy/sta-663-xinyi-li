{
 "metadata": {
  "name": "",
  "signature": "sha256:673da09f119048a1fb7d19de2b658027c92a6c63c422ccb990ab72bd6cb1a264"
 },
 "nbformat": 3,
 "nbformat_minor": 0,
 "worksheets": [
  {
   "cells": [
    {
     "cell_type": "code",
     "collapsed": false,
     "input": [
      "!git add .\n"
     ],
     "language": "python",
     "metadata": {},
     "outputs": [],
     "prompt_number": 2
    },
    {
     "cell_type": "code",
     "collapsed": false,
     "input": [
      "!git config --global user.name \"xinyistat\"\n",
      "!git config --global user.email chrislixystat@gmail.com"
     ],
     "language": "python",
     "metadata": {},
     "outputs": []
    },
    {
     "cell_type": "code",
     "collapsed": false,
     "input": [
      "!git commit --amend --reset-author"
     ],
     "language": "python",
     "metadata": {},
     "outputs": [
      {
       "output_type": "stream",
       "stream": "stdout",
       "text": [
        "\u001b)0\u001b7\u001b[?47h\u001b[1;24r\u001b[m\u001b[4l\u001b[?1h\u001b=\u001b[?1h\u001b=\u001b[?1h\u001b=\u001b[m\u001b[m\u001b[m\u001b[H\u001b[2J\u001b[7m  GNU nano 2.2.6 File: ...itnami/sta-663-xinyi-li/.git/COMMIT_EDITMSG           \u001b[3;1H\u001b[mtry\r",
        "\u001b[2B# Please enter the commit message for your changes. Lines starting\r",
        "\u001b[1B# with '#' will be ignored, and an empty message aborts the commit.\r",
        "\u001b[1B#\u001b[1B\b# Committer: chrislixystat@gmail.com <root@ubuntu14-generic-template-01.oit.duk$\u001b[9;1H#\u001b[1B\b# On branch master\r",
        "\u001b[1B# Your branch is ahead of 'origin/master' by 3 commits.\r",
        "\u001b[1B#   (use \"git push\" to publish your local commits)\r",
        "\u001b[1B#\u001b[1B\b# Changes to be committed:\r",
        "\u001b[1B#\u001b[7Cmodified:   .ipynb_checkpoints/Exercises01-checkpoint.ipynb\r",
        "\u001b[1B#\u001b[7Cmodified:   Exercises01.ipynb\r",
        "\u001b[1B#\u001b[7Cmodified:   Untitled1.ipynb\r",
        "\u001b[1B#\u001b[22;32H\u001b[7m[ Read 16 lines ]\r",
        "\u001b[1B^G\u001b[m Get Help  \u001b[7m^O\u001b[m WriteOut  \u001b[7m^R\u001b[m Read File \u001b[7m^Y\u001b[m Prev Page \u001b[7m^K\u001b[m Cut Text  \u001b[7m^C\u001b[m Cur Pos\r",
        "\u001b[1B\u001b[7m^X\u001b[m Exit\u001b[6C\u001b[7m^J\u001b[m Justify   \u001b[7m^W\u001b[m Where Is  \u001b[7m^V\u001b[m Next Page \u001b[7m^U\u001b[m UnCut Text\u001b[7m^T\u001b[m To Spell\r",
        "\u001b[21A"
       ]
      }
     ]
    },
    {
     "cell_type": "code",
     "collapsed": false,
     "input": [
      "!git commit -m \"try2\""
     ],
     "language": "python",
     "metadata": {},
     "outputs": [
      {
       "output_type": "stream",
       "stream": "stdout",
       "text": [
        "[master f4e077e] try2\r\n",
        " 3 files changed, 18 insertions(+), 69 deletions(-)\r\n"
       ]
      }
     ],
     "prompt_number": 3
    },
    {
     "cell_type": "code",
     "collapsed": false,
     "input": [
      "!git push"
     ],
     "language": "python",
     "metadata": {},
     "outputs": [
      {
       "output_type": "stream",
       "stream": "stdout",
       "text": [
        "Username for 'https://github.com': "
       ]
      }
     ]
    },
    {
     "cell_type": "code",
     "collapsed": false,
     "input": [
      "!git config --global user.name"
     ],
     "language": "python",
     "metadata": {},
     "outputs": []
    },
    {
     "cell_type": "code",
     "collapsed": false,
     "input": [
      "!git pull"
     ],
     "language": "python",
     "metadata": {},
     "outputs": [
      {
       "output_type": "stream",
       "stream": "stdout",
       "text": [
        "Already up-to-date.\r\n"
       ]
      }
     ],
     "prompt_number": 1
    },
    {
     "cell_type": "code",
     "collapsed": false,
     "input": [
      "!git status"
     ],
     "language": "python",
     "metadata": {},
     "outputs": [
      {
       "output_type": "stream",
       "stream": "stdout",
       "text": [
        "On branch master\r\n",
        "Your branch is ahead of 'origin/master' by 1 commit.\r\n",
        "  (use \"git push\" to publish your local commits)\r\n",
        "\r\n",
        "Changes not staged for commit:\r\n",
        "  (use \"git add <file>...\" to update what will be committed)\r\n",
        "  (use \"git checkout -- <file>...\" to discard changes in working directory)\r\n",
        "\r\n",
        "\t\u001b[31mmodified:   Untitled1.ipynb\u001b[m\r\n",
        "\r\n",
        "no changes added to commit (use \"git add\" and/or \"git commit -a\")\r\n"
       ]
      }
     ],
     "prompt_number": 1
    },
    {
     "cell_type": "code",
     "collapsed": false,
     "input": [
      "!mkdir \"Lectures\""
     ],
     "language": "python",
     "metadata": {},
     "outputs": [],
     "prompt_number": 2
    },
    {
     "cell_type": "code",
     "collapsed": false,
     "input": [
      "!mv Topic_1/Exercises01.ipynb Labs"
     ],
     "language": "python",
     "metadata": {},
     "outputs": [],
     "prompt_number": 3
    },
    {
     "cell_type": "code",
     "collapsed": false,
     "input": [
      "!mv Topic_1 Lectures"
     ],
     "language": "python",
     "metadata": {},
     "outputs": [],
     "prompt_number": 4
    },
    {
     "cell_type": "code",
     "collapsed": false,
     "input": [
      "!mv Topic_2 Lectures"
     ],
     "language": "python",
     "metadata": {},
     "outputs": [],
     "prompt_number": 5
    },
    {
     "cell_type": "code",
     "collapsed": false,
     "input": [],
     "language": "python",
     "metadata": {},
     "outputs": []
    }
   ],
   "metadata": {}
  }
 ]
}