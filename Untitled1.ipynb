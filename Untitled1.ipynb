{
 "metadata": {
  "name": "",
  "signature": "sha256:dbdd651ebb8c4777d8e5555666847eb16e03181bdd1e2542b17fd2e8fa165592"
 },
 "nbformat": 3,
 "nbformat_minor": 0,
 "worksheets": [
  {
   "cells": [
    {
     "cell_type": "code",
     "collapsed": false,
     "input": [
      "!git add .\n"
     ],
     "language": "python",
     "metadata": {},
     "outputs": [],
     "prompt_number": 2
    },
    {
     "cell_type": "code",
     "collapsed": false,
     "input": [
      "!git commit"
     ],
     "language": "python",
     "metadata": {},
     "outputs": [
      {
       "output_type": "stream",
       "stream": "stdout",
       "text": [
        "\u001b)0\u001b7\u001b[?47h\u001b[1;24r\u001b[m\u001b[4l\u001b[?1h\u001b=\u001b[?1h\u001b=\u001b[?1h\u001b=\u001b[m\u001b[m\u001b[m\u001b[H\u001b[2J\u001b[7m  GNU nano 2.2.6 File: ...itnami/sta-663-xinyi-li/.git/COMMIT_EDITMSG           \u001b[4;1H\u001b[m# Please enter the commit message for your changes. Lines starting\r",
        "\u001b[1B# with '#' will be ignored, and an empty message aborts the commit.\r",
        "\u001b[1B#\u001b[1B\b# Committer: root <root@ubuntu14-generic-template-01.oit.duke.edu>\r",
        "\u001b[1B#\u001b[1B\b# On branch master\r",
        "\u001b[1B# Your branch is up-to-date with 'origin/master'.\r",
        "\u001b[1B#\u001b[1B\b# Changes to be committed:\r",
        "\u001b[1B#\u001b[7Cmodified:   .ipynb_checkpoints/IntroductionToPython-Copy0-checkpoint.ip$\u001b[14;1H#\u001b[22;32H\u001b[7m[ Read 12 lines ]\r",
        "\u001b[1B^G\u001b[m Get Help  \u001b[7m^O\u001b[m WriteOut  \u001b[7m^R\u001b[m Read File \u001b[7m^Y\u001b[m Prev Page \u001b[7m^K\u001b[m Cut Text  \u001b[7m^C\u001b[m Cur Pos\r",
        "\u001b[1B\u001b[7m^X\u001b[m Exit\u001b[6C\u001b[7m^J\u001b[m Justify   \u001b[7m^W\u001b[m Where Is  \u001b[7m^V\u001b[m Next Page \u001b[7m^U\u001b[m UnCut Text\u001b[7m^T\u001b[m To Spell\r",
        "\u001b[21A"
       ]
      }
     ]
    },
    {
     "cell_type": "code",
     "collapsed": false,
     "input": [
      "!git push"
     ],
     "language": "python",
     "metadata": {},
     "outputs": []
    },
    {
     "cell_type": "code",
     "collapsed": false,
     "input": [
      "!git pull"
     ],
     "language": "python",
     "metadata": {},
     "outputs": [
      {
       "output_type": "stream",
       "stream": "stdout",
       "text": [
        "Already up-to-date.\r\n"
       ]
      }
     ],
     "prompt_number": 1
    },
    {
     "cell_type": "code",
     "collapsed": false,
     "input": [],
     "language": "python",
     "metadata": {},
     "outputs": []
    }
   ],
   "metadata": {}
  }
 ]
}