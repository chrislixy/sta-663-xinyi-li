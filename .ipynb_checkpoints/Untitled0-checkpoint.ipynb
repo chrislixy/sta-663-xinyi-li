{
 "metadata": {
  "name": "",
  "signature": "sha256:576bf2143d7c480181e2ae4441c4dbb0e2bf6b92e7ef5da4b67227f7adcccd30"
 },
 "nbformat": 3,
 "nbformat_minor": 0,
 "worksheets": []
}