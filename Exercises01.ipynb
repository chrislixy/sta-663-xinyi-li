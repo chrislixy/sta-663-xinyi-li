{
 "metadata": {
  "name": "",
  "signature": "sha256:00e1de85215cf5787d4d5b72889a2929b1e815b941fed56335cae2ea55fb17ff"
 },
 "nbformat": 3,
 "nbformat_minor": 0,
 "worksheets": [
  {
   "cells": [
    {
     "cell_type": "code",
     "collapsed": false,
     "input": [
      "from IPython.display import Image"
     ],
     "language": "python",
     "metadata": {},
     "outputs": []
    },
    {
     "cell_type": "markdown",
     "metadata": {},
     "source": [
      "Computer lab\n",
      "----\n",
      "\n",
      "These exercises are designed to give you some practice coding in Python and proivde familiarity with the language syntax."
     ]
    },
    {
     "cell_type": "markdown",
     "metadata": {},
     "source": [
      "**Exercise 1 [10 pts]**. Write code to solve the [Project Euler puzzle 1](https://projecteuler.net/problems)"
     ]
    },
    {
     "cell_type": "code",
     "collapsed": false,
     "input": [
      "# Your code here\n",
      "\n",
      "Euler=[x for x in range(1000) if x%3==0 or x%5==0]\n",
      "print(sum(Euler))\n",
      "        \n"
     ],
     "language": "python",
     "metadata": {},
     "outputs": [
      {
       "output_type": "stream",
       "stream": "stdout",
       "text": [
        "233168\n"
       ]
      }
     ],
     "prompt_number": 18
    },
    {
     "cell_type": "markdown",
     "metadata": {},
     "source": [
      "**Exericse 2 [10 pts]**. Wikipedia gives the sample correlation coefficient formula as shown below. Write functions to calculate the sample mean, the sample standard deviation and the sample correlation coefficient. Calculate the sample correlation coefficent for the following lists of numbers:\n",
      "\n",
      "```python\n",
      "x = [10.0, 8.0, 13.0, 9.0, 11.0, 14.0, 6.0, 4.0, 12.0, 7.0, 5.0]\n",
      "y = [8.04, 6.95, 7.58, 8.81, 8.33, 9.96, 7.24, 4.26, 10.84, 4.82, 5.68]\n",
      "```\n",
      "\n",
      "Do NOT use `numpy`  functions - the idea is to code the functions yourself! The square root of $x$ can be calculated as ```x**0.5```."
     ]
    },
    {
     "cell_type": "code",
     "collapsed": false,
     "input": [
      "Image(url=\"http://upload.wikimedia.org/math/0/4/e/04e3ee493ddb1f01e03d8bf024fbd0a5.png\")"
     ],
     "language": "python",
     "metadata": {},
     "outputs": [
      {
       "html": [
        "<img src=\"http://upload.wikimedia.org/math/0/4/e/04e3ee493ddb1f01e03d8bf024fbd0a5.png\"/>"
       ],
       "metadata": {},
       "output_type": "pyout",
       "prompt_number": 3,
       "text": [
        "<IPython.core.display.Image at 0x1033e2e50>"
       ]
      }
     ],
     "prompt_number": 3
    },
    {
     "cell_type": "code",
     "collapsed": false,
     "input": [
      "Image(url=\"http://upload.wikimedia.org/math/7/0/d/70df5220933ae8298cd5ef1c719360bf.png\")"
     ],
     "language": "python",
     "metadata": {},
     "outputs": [
      {
       "html": [
        "<img src=\"http://upload.wikimedia.org/math/7/0/d/70df5220933ae8298cd5ef1c719360bf.png\"/>"
       ],
       "metadata": {},
       "output_type": "pyout",
       "prompt_number": 4,
       "text": [
        "<IPython.core.display.Image at 0x10369d310>"
       ]
      }
     ],
     "prompt_number": 4
    },
    {
     "cell_type": "code",
     "collapsed": false,
     "input": [
      "# Your code here\n",
      "x = [10.0, 8.0, 13.0, 9.0, 11.0, 14.0, 6.0, 4.0, 12.0, 7.0, 5.0]\n",
      "y = [8.04, 6.95, 7.58, 8.81, 8.33, 9.96, 7.24, 4.26, 10.84, 4.82, 5.68]\n",
      "\n",
      "\n",
      "def mean(a):\n",
      "    return(float(sum(a))/len(a))\n",
      "def sd(a):   \n",
      "    meana=mean(a)\n",
      "    diffa=0\n",
      "    for i in range(len(a)):\n",
      "        diffa=diffa+(meana-a[i])**2\n",
      "    sda=(diffa/(len(a)-1))**0.5\n",
      "    return(sda)\n",
      "    \n",
      "def corr(a,b):\n",
      "    meana=mean(a)\n",
      "    meanb=mean(b)\n",
      "    sda=sd(a)\n",
      "    sdb=sd(b)\n",
      "    cor=0\n",
      "    for i in range(len(a)):\n",
      "        cor=cor+((a[i]-meana)/sda)*((b[i]-meanb)/sdb)\n",
      "    corr=float(cor)/(len(a)-1)\n",
      "    return(corr)\n",
      "\n",
      "meanx=mean(x)\n",
      "meany=mean(y)\n",
      "sdx=sd(x)\n",
      "sdy=sd(y)\n",
      "corrxy=corr(x,y)\n",
      "\n",
      "print(\"mean of x is \",meanx)\n",
      "print(\"mean of y is \", meany)\n",
      "print(\"sd of x is \", sdx)\n",
      "print(\"sd of y is \", sdy)\n",
      "print(\"correlation between x and y is \",corrxy)\n",
      "\n",
      "\n",
      "\n",
      "\n",
      "\n"
     ],
     "language": "python",
     "metadata": {},
     "outputs": [
      {
       "output_type": "stream",
       "stream": "stdout",
       "text": [
        "('mean of x is ', 9.0)\n",
        "('mean of y is ', 7.500909090909093)\n",
        "('sd of x is ', 3.3166247903554)\n",
        "('sd of y is ', 2.031568135925815)\n",
        "('correlation between x and y is ', 0.8164205163448399)\n"
       ]
      }
     ],
     "prompt_number": 31
    },
    {
     "cell_type": "markdown",
     "metadata": {},
     "source": [
      "**Exercise 3** [10 pts]. Write a function to calculate hailstone numbers.\n",
      "\n",
      "Start with any positive integer (an initial seed) and obtain a sequence of numbers by following these rules.\n",
      "\n",
      "1. Base case: If the number is 1, stop.\n",
      "2. Recursvie case: If the current number is even, divide it by two; else if it is odd, multiply it by three and add one. \n",
      "\n",
      "The seqeunce of numbers obtained are known as *hailstone numbers* - although it is not proven that all sequences will eventually terminate with 1 (Collatz conjecture), no couter-example has yet been found. \n",
      "\n",
      "For example, starting with 7, we get the seuqence 7, 22, 11, 34, 17, 52, 26, 13, 40, 20, 10, 5, 16, 8, 4, 2, 1, 4, 2, 1.\n",
      "\n",
      "A recursive function to find the sequence of hailstone nummbers is given below. Write a *non-recursvie* version of the function that gives the same result. Using your function, what is the length of the sequeence obtained when we start with 23?\n",
      "\n",
      "```python\n",
      "def hailstone(n, acc=None):\n",
      "    \"\"\"Given a positive integer n, return the series of hailstone numbers.\"\"\"\n",
      "    if acc is None:\n",
      "        acc = []\n",
      "    acc.append(n)\n",
      "    if n == 1:\n",
      "        return acc\n",
      "    else:\n",
      "        if n%2 == 0:\n",
      "            return hailstone(n/2, acc)\n",
      "        else:\n",
      "            return hailstone(n*3 + 1, acc)\n",
      "```"
     ]
    },
    {
     "cell_type": "code",
     "collapsed": false,
     "input": [
      "# Your code here\n",
      "\n",
      "def hailstone(num):\n",
      "    count=0\n",
      "    while num!=1:\n",
      "        if num%2==0:\n",
      "            num=num/2\n",
      "            count=count+1\n",
      "        else:\n",
      "            num=num*3+1\n",
      "            count=count+1\n",
      "    return(count)\n",
      "print(\"length of the sequence obtained when we start with 23 is \", hailstone(23))\n",
      "        \n",
      "\n",
      "\n"
     ],
     "language": "python",
     "metadata": {},
     "outputs": [
      {
       "output_type": "stream",
       "stream": "stdout",
       "text": [
        "('length of the sequence obtained when we start with 23 is ', 15)\n"
       ]
      }
     ],
     "prompt_number": 33
    },
    {
     "cell_type": "markdown",
     "metadata": {},
     "source": [
      "**Exercise 4 [20 pts]**. A Caesar cipher replaces each in a string with the letter $k$ modulo 26 positions down. For example, with $k=3$, 'a' would become 'd', 'b' would become 'e' and so on. The Caesar cipher is very easy to crack, since the relative letter frequencies are preserved - that is, 'e' is the most commonly used English letter, so the most frequent letter in the cipher is likely to be the code for 'e'. We can download a large corpus of English text (e.g. a few books from Project Gutenberg), and estimate the individual letter frequencies. Using for example, a multinomial model where each letter is one of 26 possibiilites with frequencies given by the the previous estimates, and assuming that each letter is independent, we can simply go through all 26 possible values of $k$ and choose the model with the highest likelihood. Or just use $\\chi^2$ statistic to compare observed and expected frequencies.\n",
      "\n",
      "Have an extended exercise to write a Caesar encoder and code to crack the cipher. \n",
      "\n",
      "- Writing the encoder/decoder\n",
      "    - Convert a sentence to lowercase\n",
      "    - Write a function let2int to convert a lowercase letter to a number from 0 to 25\n",
      "    - Write the reverse function int2let to convert a number to a lowercase letter\n",
      "    - Examples with the ternary operator in a list comprehsnsion\n",
      "    - Write a functiton to encode a sentecne with shift k\n",
      "    - Write a function to decode a sentence with shfit k\n",
      "    - Confirm that sentence = decode(encode(sentence))\n",
      "    \n",
      "- Writing the cracker\n",
      "    - Write a function to download a book from Project Gutenberg\n",
      "    ```python\n",
      "    text = urllib2.urlopen('http://www.gutenberg.org/ebooks/1342.txt.utf-8').read()\n",
      "    ```\n",
      "    - Write a fucntion to estimte letter frequencies in text\n",
      "    - Write a function to calculate the $\\chi^2$ statistic given observed and expected frequencies\n",
      "    - Write a cracker to deecode encrypted text by choosing the shift $k$ with the smallest $\\chi^2$ score"
     ]
    },
    {
     "cell_type": "code",
     "collapsed": false,
     "input": [
      "# Your code here\n",
      "\n",
      "s = \"\"\"\n",
      "Write a program that prints the numbers from 1 to 100. \n",
      "But for multiples of three print 'Fizz' instead of the number and f\n",
      "or the multiples of five print 'Buzz'. For numbers which are \n",
      "multiples of both three and five print 'FizzBuzz'\n",
      "\"\"\"\n",
      "\n",
      "\n",
      "s=s.lower()\n",
      "def let2int(s):\n",
      "    a=[]\n",
      "    for x in s:\n",
      "        a.append(ord(x)-97)\n",
      "    return(a)\n",
      "ints=let2int(s)\n",
      "print(ints)\n",
      "\n",
      "def let2let(s):\n",
      "    b=[]\n",
      "    for x in s:\n",
      "        b.append(chr(x+97))\n",
      "    return(b)\n",
      "chrs=let2let(ints)\n",
      "print(str(chrs))\n",
      "\n",
      "### \n",
      "\n",
      "\n",
      "\n",
      "\n",
      "\n"
     ],
     "language": "python",
     "metadata": {},
     "outputs": [
      {
       "output_type": "stream",
       "stream": "stdout",
       "text": [
        "[-87, 22, 17, 8, 19, 4, -65, 0, -65, 15, 17, 14, 6, 17, 0, 12, -65, 19, 7, 0, 19, -65, 15, 17, 8, 13, 19, 18, -65, 19, 7, 4, -65, 13, 20, 12, 1, 4, 17, 18, -65, 5, 17, 14, 12, -65, -48, -65, 19, 14, -65, -48, -49, -49, -51, -65, -87, 1, 20, 19, -65, 5, 14, 17, -65, 12, 20, 11, 19, 8, 15, 11, 4, 18, -65, 14, 5, -65, 19, 7, 17, 4, 4, -65, 15, 17, 8, 13, 19, -65, -58, 5, 8, 25, 25, -58, -65, 8, 13, 18, 19, 4, 0, 3, -65, 14, 5, -65, 19, 7, 4, -65, 13, 20, 12, 1, 4, 17, -65, 0, 13, 3, -65, 5, -87, 14, 17, -65, 19, 7, 4, -65, 12, 20, 11, 19, 8, 15, 11, 4, 18, -65, 14, 5, -65, 5, 8, 21, 4, -65, 15, 17, 8, 13, 19, -65, -58, 1, 20, 25, 25, -58, -51, -65, 5, 14, 17, -65, 13, 20, 12, 1, 4, 17, 18, -65, 22, 7, 8, 2, 7, -65, 0, 17, 4, -65, -87, 12, 20, 11, 19, 8, 15, 11, 4, 18, -65, 14, 5, -65, 1, 14, 19, 7, -65, 19, 7, 17, 4, 4, -65, 0, 13, 3, -65, 5, 8, 21, 4, -65, 15, 17, 8, 13, 19, -65, -58, 5, 8, 25, 25, 1, 20, 25, 25, -58, -87]\n",
        "['\\n', 'w', 'r', 'i', 't', 'e', ' ', 'a', ' ', 'p', 'r', 'o', 'g', 'r', 'a', 'm', ' ', 't', 'h', 'a', 't', ' ', 'p', 'r', 'i', 'n', 't', 's', ' ', 't', 'h', 'e', ' ', 'n', 'u', 'm', 'b', 'e', 'r', 's', ' ', 'f', 'r', 'o', 'm', ' ', '1', ' ', 't', 'o', ' ', '1', '0', '0', '.', ' ', '\\n', 'b', 'u', 't', ' ', 'f', 'o', 'r', ' ', 'm', 'u', 'l', 't', 'i', 'p', 'l', 'e', 's', ' ', 'o', 'f', ' ', 't', 'h', 'r', 'e', 'e', ' ', 'p', 'r', 'i', 'n', 't', ' ', \"'\", 'f', 'i', 'z', 'z', \"'\", ' ', 'i', 'n', 's', 't', 'e', 'a', 'd', ' ', 'o', 'f', ' ', 't', 'h', 'e', ' ', 'n', 'u', 'm', 'b', 'e', 'r', ' ', 'a', 'n', 'd', ' ', 'f', '\\n', 'o', 'r', ' ', 't', 'h', 'e', ' ', 'm', 'u', 'l', 't', 'i', 'p', 'l', 'e', 's', ' ', 'o', 'f', ' ', 'f', 'i', 'v', 'e', ' ', 'p', 'r', 'i', 'n', 't', ' ', \"'\", 'b', 'u', 'z', 'z', \"'\", '.', ' ', 'f', 'o', 'r', ' ', 'n', 'u', 'm', 'b', 'e', 'r', 's', ' ', 'w', 'h', 'i', 'c', 'h', ' ', 'a', 'r', 'e', ' ', '\\n', 'm', 'u', 'l', 't', 'i', 'p', 'l', 'e', 's', ' ', 'o', 'f', ' ', 'b', 'o', 't', 'h', ' ', 't', 'h', 'r', 'e', 'e', ' ', 'a', 'n', 'd', ' ', 'f', 'i', 'v', 'e', ' ', 'p', 'r', 'i', 'n', 't', ' ', \"'\", 'f', 'i', 'z', 'z', 'b', 'u', 'z', 'z', \"'\", '\\n']\n"
       ]
      }
     ],
     "prompt_number": 23
    },
    {
     "cell_type": "code",
     "collapsed": false,
     "input": [],
     "language": "python",
     "metadata": {},
     "outputs": []
    }
   ],
   "metadata": {}
  }
 ]
}