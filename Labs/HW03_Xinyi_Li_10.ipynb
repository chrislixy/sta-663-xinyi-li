{
 "metadata": {
  "name": "",
  "signature": "sha256:847a00a38ba251bf4abbd3c300042e9d93fd5e6b571cb8cc91373f21978a0578"
 },
 "nbformat": 3,
 "nbformat_minor": 0,
 "worksheets": [
  {
   "cells": [
    {
     "cell_type": "code",
     "collapsed": false,
     "input": [
      "import os\n",
      "import sys\n",
      "import glob\n",
      "import matplotlib.pyplot as plt\n",
      "import numpy as np\n",
      "import pandas as pd\n",
      "%matplotlib inline\n",
      "plt.style.use('ggplot')\n"
     ],
     "language": "python",
     "metadata": {},
     "outputs": [],
     "prompt_number": 1
    },
    {
     "cell_type": "markdown",
     "metadata": {},
     "source": [
      "**Exercise 1 (10 pts)**. Avoding catastrophic cancellation.\n",
      "\n",
      "The tail of the standard logistic distributon is given by $1 - F(t) = 1 - (1+e^{-t})^{-1}$.\n",
      "\n",
      "- Define a function `f1` to calculate the tail probability of the logistic distribution using the formula given above\n",
      "- Use `sympy` to find the exact value of the tail distribution (using the same symbolic formula) to 20 decimal digits\n",
      "- Calculate the *relative error* of `f1` when $t = 25$ (The relative error is given by `abs(exact - approximate)/exact`)\n",
      "- Rewrite the expression for the tail of the logistic distribution using simple algebra so that there is no risk of cancellation, and write a function `f2` using this formula. Calculate the *relative error* of `f2` when $t = 25$. \n",
      "- How much more accurate is `f2` compared with `f1` in terms of the relative error?"
     ]
    },
    {
     "cell_type": "code",
     "collapsed": false,
     "input": [
      "# Your code here\n",
      "\n",
      "# f1 returns the value calculated by the formula\n",
      "def f1(t):\n",
      "    return 1-(1+np.exp(-t))**(-1)\n",
      "\n",
      "f1(25)"
     ],
     "language": "python",
     "metadata": {},
     "outputs": [
      {
       "metadata": {},
       "output_type": "pyout",
       "prompt_number": 2,
       "text": [
        "1.3888001859641008e-11"
       ]
      }
     ],
     "prompt_number": 2
    },
    {
     "cell_type": "code",
     "collapsed": false,
     "input": [
      "# exact value: uses sympy to evaluate precision=20\n",
      "import sympy\n",
      "def sympyfunc(t):\n",
      "    expr=1-(1+sympy.exp(-t))**(-1)\n",
      "    return expr.evalf(20)\n",
      "sympyfunc(25)"
     ],
     "language": "python",
     "metadata": {},
     "outputs": [
      {
       "metadata": {},
       "output_type": "pyout",
       "prompt_number": 3,
       "text": [
        "1.3887943864771145610e-11"
       ]
      }
     ],
     "prompt_number": 3
    },
    {
     "cell_type": "code",
     "collapsed": false,
     "input": [
      "e1=abs((sympyfunc(25)-f1(25))/sympyfunc(25))\n",
      "e1"
     ],
     "language": "python",
     "metadata": {},
     "outputs": [
      {
       "metadata": {},
       "output_type": "pyout",
       "prompt_number": 4,
       "text": [
        "4.1759147665982646285e-6"
       ]
      }
     ],
     "prompt_number": 4
    },
    {
     "cell_type": "code",
     "collapsed": false,
     "input": [
      "# multiply 1 by (1+np.exp(-t))/(1+np.exp(-t))\n",
      "def f2(t):\n",
      "    return (np.exp(-t))/(1+np.exp(-t))\n",
      "f2(25)"
     ],
     "language": "python",
     "metadata": {},
     "outputs": [
      {
       "metadata": {},
       "output_type": "pyout",
       "prompt_number": 5,
       "text": [
        "1.3887943864771146e-11"
       ]
      }
     ],
     "prompt_number": 5
    },
    {
     "cell_type": "code",
     "collapsed": false,
     "input": [
      "e2=abs((sympyfunc(25)-f2(25))/sympyfunc(25))\n",
      "e2"
     ],
     "language": "python",
     "metadata": {},
     "outputs": [
      {
       "metadata": {},
       "output_type": "pyout",
       "prompt_number": 6,
       "text": [
        "2.3111252748218700406e-18"
       ]
      }
     ],
     "prompt_number": 6
    },
    {
     "cell_type": "code",
     "collapsed": false,
     "input": [
      "e1/e2"
     ],
     "language": "python",
     "metadata": {},
     "outputs": [
      {
       "metadata": {},
       "output_type": "pyout",
       "prompt_number": 7,
       "text": [
        "1806875123599.7465438"
       ]
      }
     ],
     "prompt_number": 7
    },
    {
     "cell_type": "code",
     "collapsed": false,
     "input": [
      "print \"Relative error of f1 is about 4e-6, while that of f2 is about 2.3e-18. f2 is 1806875123599.7465438\"\n",
      "print \"times more accurate than f1. Without cancellation, the accuracy improves a lot.\""
     ],
     "language": "python",
     "metadata": {},
     "outputs": [
      {
       "output_type": "stream",
       "stream": "stdout",
       "text": [
        "Relative error of f1 is about 4e-6, while that of f2 is about 2.3e-18. f2 is 1806875123599.7465438\n",
        "times more accurate than f1. Without cancellation, the accuracy improves a lot.\n"
       ]
      }
     ],
     "prompt_number": 8
    },
    {
     "cell_type": "markdown",
     "metadata": {},
     "source": [
      "**Exercise 2 (10 pts)**. Ill-conditioned linear problems.\n",
      "\n",
      "You are given a $n \\times p$ design matrix $X$ and a $p$-vector of observations $y$ and asked to find the coefficients $\\beta$ that solve the linear equations $X \\beta = y$. \n",
      "```python\n",
      "X = np.load('x.npy')\n",
      "y = np.load('y.npy')\n",
      "```\n",
      "\n",
      "The solution $\\beta$ can also be loaded as\n",
      "```python\n",
      "beta = np.load('b.npy')\n",
      "```\n",
      "\n",
      "- Write a formula that could solve the system of linear equations in terms of $X$ and $y$ Write a function `f1` that takes arguments $X$ and $y$ and returns $\\beta$ using this formula.\n",
      "- How could you code this formula using `np.linalg.solve` that does not require inverting a matrix? Write a function `f2` that takes arguments $X$ and $y$ and returns $\\beta$ using this.\n",
      "- Note that carefully designed algorithms *can* solve this ill-conditioned problem, which is why you should always use library functions for linear algebra rather than write your own.\n",
      "```python\n",
      "np.linalg.lstsq(x, y)[0]\n",
      "```\n",
      "- What happens if you try to solve for $\\beta$ using `f1` or `f2`? Remove the column of $X$ that is making the matrix singluar and find the $p-1$ vector $b$ using `f2`.\n",
      "- Note that the solution differs from that given by `np.linalg.lstsq`? This arises because the relevant condition number for `f2` is actually for the matrix $X^TX$ while the condition number of `lstsq` is for the matrix $X$. Why is the condition so high even after removing the column that makes the matrix singular?"
     ]
    },
    {
     "cell_type": "code",
     "collapsed": false,
     "input": [
      "# Your code here\n",
      "\n",
      "X = np.load('x.npy')\n",
      "y = np.load('y.npy')\n",
      "beta = np.load('b.npy')\n",
      "print beta\n",
      "\n",
      "#np.linalg.inv(np.dot(X.T,X))\n",
      "\n",
      "\n",
      "# beta=(X'X)^(-1)X'y\n",
      "def f1(X,y):\n",
      "    return np.dot(np.linalg.inv(np.dot(X.T,X)),np.dot(X.T,y))\n",
      "\n",
      "#by solving (X'X)beta=X'y\n",
      "def f2(X,y):\n",
      "    return np.linalg.solve(np.dot(X.T,X),np.dot(X.T,y))\n",
      "\n",
      "print  \"Both f1 and f2 return the same error: X'X is singular, so we cannot take inverse of it.\"\n",
      "\n",
      "\n",
      "print \"Note that column 6 = 10 * column 4 for every row. Removing column 6 can solve the problem.\"\n",
      "X2=X[:,0:5]\n",
      "beta2=f2(X2,y)\n",
      "print beta2\n",
      "# solution given by np.linalg.lstsq is: \n",
      "print np.linalg.lstsq(X2, y)[0]\n",
      "\n",
      "#condition\n",
      "U, s, V = np.linalg.svd(X2)\n",
      "print(max(s)/min(s))\n",
      "\n",
      "print \"Condition is very high, so that the new matrix is close to singular. This is primarily because the scale of column 2 is much larger than that of other columns.\"\n",
      "\n"
     ],
     "language": "python",
     "metadata": {},
     "outputs": [
      {
       "output_type": "stream",
       "stream": "stdout",
       "text": [
        "[ 0.46923853  0.09617226  0.90337017  0.11949047  0.52479938  0.083623  ]\n",
        "Both f1 and f2 return the same error: X'X is singular, so we cannot take inverse of it.\n",
        "Note that column 6 = 10 * column 4 for every row. Removing column 6 can solve the problem.\n",
        "[ 0.47221111  0.09617226  0.90449896  0.95138296  0.52497683]\n",
        "[ 0.46950359  0.09617226  0.90379971  0.95492725  0.52517152]\n",
        "1.85324085869e+14\n",
        "Condition is very high, so that the new matrix is close to singular. This is primarily because the scale of column 2 is much larger than that of other columns.\n"
       ]
      }
     ],
     "prompt_number": 9
    },
    {
     "cell_type": "markdown",
     "metadata": {},
     "source": [
      "**Exercise 3 (10 pts)**. Importance of using efficient algorihtms.\n",
      "\n",
      "- Implement bubble sort\n",
      "- Calculate its big $\\mathcal{O}$ algorithmic complexity\n",
      "- Time the performance of bubble sort on random uniform deviate vectors of sizes `range(100, 2000, 100)` using `time.time()` from the standard library\n",
      "- Use `scipy.optimize.curve_fit` to fit an appropriate function to the collection of (size, execution time) data points. Extrapolate how long it would take to sort a random vector of size 1,000,000. Now time how long it takes for the system sort to sort a random vector of size 1,000,000.\n",
      "- Plot the fits together with the data points uisng `matplotlib.pyplot` functions."
     ]
    },
    {
     "cell_type": "code",
     "collapsed": false,
     "input": [
      "# Your code here\n",
      "\n",
      "#each pass, check each element,\n",
      "#swap if it is bigger than its neighbor\n",
      "def bubbleSort(L):\n",
      "    for j in range(len(L)):\n",
      "        #print(L)\n",
      "        swap = False\n",
      "        for i in range(len(L)-1):\n",
      "            if L[i] > L[i+1]:\n",
      "                L[i],L[i+1] = L[i+1],L[i]\n",
      "                swap = True\n",
      "        if not swap:\n",
      "            break\n",
      "\n",
      "print \"Algorithm complexity for bubble sort in average case and worst case is O(n^2). Because in each loop, the item would compare to all items after it, so total number of comparison is n*(n-1)/2, which is O(n^2)\"\n",
      "print \"If the list has already sorted, then algorithm complexity using bubble sort is O(n).\"\n",
      "\n",
      "\n"
     ],
     "language": "python",
     "metadata": {},
     "outputs": [
      {
       "output_type": "stream",
       "stream": "stdout",
       "text": [
        "Algorithm complexity for bubble sort in average case and worst case is O(n^2). Because in each loop, the item would compare to all items after it, so total number of comparison is n*(n-1)/2, which is O(n^2)\n",
        "If the list has already sorted, then algorithm complexity using bubble sort is O(n).\n"
       ]
      }
     ],
     "prompt_number": 10
    },
    {
     "cell_type": "code",
     "collapsed": false,
     "input": [
      "import time\n",
      "a=np.arange(100,2000,100)\n",
      "# set seed so that every time the program will generate the same sequence.\n",
      "np.random.seed(1)\n",
      "# define function for calculating time.\n",
      "# time.time() reports current time. Time used to run function=end time - start time\n",
      "def t(l):\n",
      "    start=time.time()\n",
      "    temp=bubbleSort(l)\n",
      "    end=time.time()\n",
      "    return(end-start)\n",
      "# create a list to record time used, will be used as ydata in scipy.optimize.curve_fit()\n",
      "timeused=[]\n",
      "for i in range(len(a)):\n",
      "    l=np.random.random(a[i])\n",
      "    timeused.append(t(l))\n",
      "print timeused"
     ],
     "language": "python",
     "metadata": {},
     "outputs": [
      {
       "output_type": "stream",
       "stream": "stdout",
       "text": [
        "[0.004454135894775391, 0.013296127319335938, 0.03237104415893555, 0.05530381202697754, 0.08746886253356934, 0.12654495239257812, 0.17328405380249023, 0.23667502403259277, 0.3003199100494385, 0.34746408462524414, 0.44588208198547363, 0.5123851299285889, 0.6160130500793457, 0.6974570751190186, 0.8362569808959961, 0.9250431060791016, 1.0424988269805908, 1.2001380920410156, 1.2911291122436523]\n"
       ]
      }
     ],
     "prompt_number": 11
    },
    {
     "cell_type": "code",
     "collapsed": false,
     "input": [
      "import scipy.optimize\n",
      "def quad(x,a,b,c):\n",
      "    return a*x**2+b*x+c \n",
      "popt, pcov=scipy.optimize.curve_fit(quad,a,timeused)\n",
      "# popt is vector of coefficients. \n",
      "print popt"
     ],
     "language": "python",
     "metadata": {},
     "outputs": [
      {
       "output_type": "stream",
       "stream": "stdout",
       "text": [
        "[  3.63901505e-07  -1.19074375e-06  -1.14513493e-03]\n"
       ]
      }
     ],
     "prompt_number": 12
    },
    {
     "cell_type": "code",
     "collapsed": false,
     "input": [
      "# Estimating time a vector with length 1 million using bubble sort with estimated coefficients.\n",
      "extra=quad(1000000,popt[0],popt[1],popt[2])\n",
      "print \"Estimated time of sorting 1,000,000 numbers using bubble sort is\", extra, \"seconds.\"\n",
      "print \"Using system sort function, time used to sort 1,000,000 numbers is\",t(sorted(np.random.random(1000000))),\"seconds.\""
     ],
     "language": "python",
     "metadata": {},
     "outputs": [
      {
       "output_type": "stream",
       "stream": "stdout",
       "text": [
        "Estimated time of sorting 1,000,000 numbers using bubble sort is 363900.312651 seconds.\n",
        "Using system sort function, time used to sort 1,000,000 numbers is "
       ]
      },
      {
       "output_type": "stream",
       "stream": "stdout",
       "text": [
        "0.283328056335 seconds.\n"
       ]
      }
     ],
     "prompt_number": 13
    },
    {
     "cell_type": "code",
     "collapsed": false,
     "input": [
      "# make the plot\n",
      "plt.plot(a,timeused,c=\"blue\")\n",
      "plt.plot(a,quad(a,popt[0],popt[1],popt[2]),c=\"red\")\n",
      "\n",
      "plt.xlabel('Size of input (n)', fontsize=16)\n",
      "plt.ylabel('Time used', fontsize=16)\n",
      "plt.legend(['actual data', 'fitted value'], loc='best', fontsize=20);"
     ],
     "language": "python",
     "metadata": {},
     "outputs": [
      {
       "metadata": {},
       "output_type": "display_data",
       "png": "[encoded data removed]",
       "text": [
        "<matplotlib.figure.Figure at 0x7f74ace5ff10>"
       ]
      }
     ],
     "prompt_number": 14
    },
    {
     "cell_type": "markdown",
     "metadata": {},
     "source": [
      "**Exercise 4 (20 pts)**. One of the goals of the course it that you will be able to implement novel algorihtms from the literature. \n",
      "\n",
      "- Implement the mean-shift algorithm in 1D as described [here](http://homepages.inf.ed.ac.uk/rbf/CVonline/LOCAL_COPIES/TUZEL1/MeanShift.pdf). \n",
      "    - Use the following function signature\n",
      "    ```python\n",
      "    def mean_shift(xs, x, kernel, max_iters=100, tol=1e-6):\n",
      "    ```\n",
      "    - xs is the data set, x is the starting location, and kernel is a kernel function\n",
      "    - tol is the difference in $||x||$ across iterations\n",
      "- Use the following kernels with bandwidth $h$ (a default value of 1.0 will work fine)\n",
      "    - Flat - return 1 if $||x|| < h$ and 0 otherwise\n",
      "    - Gaussian \n",
      "    $$\\frac{1}{\\sqrt{2 \\pi h}}e^{\\frac{-||x||^2}{h^2}}$$\n",
      "    - Note that $||x||$ is the norm of the data point being evaluated minus the current value of $x$\n",
      "- Use both kernels to find all 3 modes of the data set in `x1d.npy`\n",
      "- Modify the algorithm and/or kernels so that it now works in an arbitrary number of dimensions.\n",
      "- Use both kernels to find all 3 modes of the data set in `x2d.npy`\n",
      "- Plot the path of successive intermediate solutions of the mean-shift algorithm starting from `x0 = (-4, 10)` until it converges onto a mode in the 2D data for each kernel. Superimpose the path on top of a contour plot of the data density."
     ]
    },
    {
     "cell_type": "code",
     "collapsed": false,
     "input": [
      "# Your code here\n",
      "import math\n",
      "\n",
      "# Define mean shift function\n",
      "def mean_shift(xs, x, kernel, max_iters=100, tol=1e-6):\n",
      "    # create a list with starting value x, initial settings\n",
      "    xt=[x]\n",
      "    i=0\n",
      "    stop=False\n",
      "    # while loop works only both booleans are true\n",
      "    while stop==False & i<max_iters:\n",
      "        a=0\n",
      "        b=0\n",
      "        # calculating numerator and denominator for each iteration\n",
      "        for j in range(len(xs)):\n",
      "            temp=kernel(np.linalg.norm((xt[i]-xs[j])))\n",
      "            a+=xs[j]*temp\n",
      "            b+=temp\n",
      "        temp=a/b\n",
      "        xt.append(temp)\n",
      "        # stop if change is less than tolerance\n",
      "        if abs(np.linalg.norm(xt[-1]-xt[-2]))<tol:\n",
      "            stop=True\n",
      "        # count iterations\n",
      "        i+=1\n",
      "    # return the last item in the list\n",
      "    return xt[-1]\n",
      " \n",
      "# flat kernel     \n",
      "def flat(x):\n",
      "    if abs(x)<1:\n",
      "        return 1.0\n",
      "    else:\n",
      "        return 0.0\n",
      "\n",
      "# Gaussian kernel, use math package \n",
      "def gaussian(x):\n",
      "    return math.exp(-x**2)/math.sqrt(2*math.pi)"
     ],
     "language": "python",
     "metadata": {},
     "outputs": [],
     "prompt_number": 15
    },
    {
     "cell_type": "code",
     "collapsed": false,
     "input": [
      "x1d=np.load(\"x1d.npy\")\n",
      "print \"3 modes using 1d flat kernel:\"\n",
      "flat1=mean_shift(x1d,1,flat)\n",
      "print flat1\n",
      "flat2=mean_shift(x1d,5.7,flat)\n",
      "print flat2\n",
      "flat3=mean_shift(x1d,-3,flat)\n",
      "print flat3"
     ],
     "language": "python",
     "metadata": {},
     "outputs": [
      {
       "output_type": "stream",
       "stream": "stdout",
       "text": [
        "3 modes using 1d flat kernel:\n",
        "0.575467435455"
       ]
      },
      {
       "output_type": "stream",
       "stream": "stdout",
       "text": [
        "\n",
        "3.97936417657"
       ]
      },
      {
       "output_type": "stream",
       "stream": "stdout",
       "text": [
        "\n",
        "-4.99090439358"
       ]
      },
      {
       "output_type": "stream",
       "stream": "stdout",
       "text": [
        "\n"
       ]
      }
     ],
     "prompt_number": 16
    },
    {
     "cell_type": "code",
     "collapsed": false,
     "input": [
      "print \"3 modes using 1d gaussian kernel:\"\n",
      "gaus1=mean_shift(x1d,1,gaussian)\n",
      "print gaus1\n",
      "gaus2=mean_shift(x1d,5.7,gaussian)\n",
      "print gaus2\n",
      "gaus3=mean_shift(x1d,-10,gaussian)\n",
      "print gaus3"
     ],
     "language": "python",
     "metadata": {},
     "outputs": [
      {
       "output_type": "stream",
       "stream": "stdout",
       "text": [
        "3 modes using 1d gaussian kernel:\n",
        "0.553567101369"
       ]
      },
      {
       "output_type": "stream",
       "stream": "stdout",
       "text": [
        "\n",
        "3.88538099547"
       ]
      },
      {
       "output_type": "stream",
       "stream": "stdout",
       "text": [
        "\n",
        "-4.92978838943"
       ]
      },
      {
       "output_type": "stream",
       "stream": "stdout",
       "text": [
        "\n"
       ]
      }
     ],
     "prompt_number": 17
    },
    {
     "cell_type": "code",
     "collapsed": false,
     "input": [
      "x2d=np.load(\"x2d.npy\")\n",
      "print \"3 modes using 2d flat kernel:\"\n",
      "flat21=mean_shift(x2d,[1,1],flat)\n",
      "print flat21\n",
      "flat22=mean_shift(x2d,[4,10],flat)\n",
      "print flat22\n",
      "flat23=mean_shift(x2d,[-5,5],flat)\n",
      "print flat23"
     ],
     "language": "python",
     "metadata": {},
     "outputs": [
      {
       "output_type": "stream",
       "stream": "stdout",
       "text": [
        "3 modes using 2d flat kernel:\n",
        "[ 2.30047425  2.8519273 ]"
       ]
      },
      {
       "output_type": "stream",
       "stream": "stdout",
       "text": [
        "\n",
        "[ 5.89326653  8.94443768]"
       ]
      },
      {
       "output_type": "stream",
       "stream": "stdout",
       "text": [
        "\n",
        "[-3.08261867  3.05387831]"
       ]
      },
      {
       "output_type": "stream",
       "stream": "stdout",
       "text": [
        "\n"
       ]
      }
     ],
     "prompt_number": 18
    },
    {
     "cell_type": "code",
     "collapsed": false,
     "input": [
      "print \"3 modes using 2d gaussian kernel:\"\n",
      "gaus21=mean_shift(x2d,[1,1],gaussian)\n",
      "print gaus21\n",
      "gaus22=mean_shift(x2d,[4,10],gaussian)\n",
      "print gaus22\n",
      "gaus23=mean_shift(x2d,[-5,5],gaussian)\n",
      "print gaus23"
     ],
     "language": "python",
     "metadata": {},
     "outputs": [
      {
       "output_type": "stream",
       "stream": "stdout",
       "text": [
        "3 modes using 2d gaussian kernel:\n",
        "[ 2.20846713  2.85185202]"
       ]
      },
      {
       "output_type": "stream",
       "stream": "stdout",
       "text": [
        "\n",
        "[ 6.0254553   9.01139864]"
       ]
      },
      {
       "output_type": "stream",
       "stream": "stdout",
       "text": [
        "\n",
        "[-3.0394415   3.05647314]"
       ]
      },
      {
       "output_type": "stream",
       "stream": "stdout",
       "text": [
        "\n"
       ]
      }
     ],
     "prompt_number": 19
    },
    {
     "cell_type": "code",
     "collapsed": false,
     "input": [
      "# Define a similar function, only changes are function name, and return a list (not the last item in the list)\n",
      "def mean_shift2(xs, x, kernel, max_iters=100, tol=1e-6):\n",
      "    xt=[x]\n",
      "    i=0\n",
      "    stop=False\n",
      "    while stop==False & i<max_iters:\n",
      "        a=0\n",
      "        b=0\n",
      "        for j in range(len(xs)):\n",
      "            temp=kernel(np.linalg.norm((xt[i]-xs[j])))\n",
      "            a+=xs[j]*temp\n",
      "            b+=temp\n",
      "        temp=a/b\n",
      "        xt.append(temp)\n",
      "        if abs(np.linalg.norm(xt[-1]-xt[-2]))<tol:\n",
      "            stop=True\n",
      "        i+=1\n",
      "    return xt\n",
      "pf=mean_shift2(x2d,[4,10],flat) #short for path of flat kernel\n",
      "pg=mean_shift2(x2d,[4,10],gaussian)  # short for path of gaussian kernel"
     ],
     "language": "python",
     "metadata": {},
     "outputs": [],
     "prompt_number": 20
    },
    {
     "cell_type": "code",
     "collapsed": false,
     "input": [],
     "language": "python",
     "metadata": {},
     "outputs": [],
     "prompt_number": 20
    },
    {
     "cell_type": "code",
     "collapsed": false,
     "input": [
      "# Convert path from nested lists to np.array, so that can use index\n",
      "pf=np.array(pf)\n",
      "pg=np.array(pg)"
     ],
     "language": "python",
     "metadata": {},
     "outputs": [],
     "prompt_number": 21
    },
    {
     "cell_type": "code",
     "collapsed": false,
     "input": [],
     "language": "python",
     "metadata": {},
     "outputs": [],
     "prompt_number": 21
    },
    {
     "cell_type": "code",
     "collapsed": false,
     "input": [
      "# Convergence path\n",
      "\n",
      "plt.scatter(pf[:,0],pf[:,1],color='red')\n",
      "plt.scatter(pg[:,0],pg[:,1],color='blue')\n",
      "\n",
      "plt.xlabel('x value', fontsize=16)\n",
      "plt.ylabel('y value', fontsize=16)\n",
      "plt.legend(['Flat kernel', 'Gaussian kernel'], fontsize=14);"
     ],
     "language": "python",
     "metadata": {},
     "outputs": [
      {
       "metadata": {},
       "output_type": "display_data",
       "png": "[encoded data removed]",
       "text": [
        "<matplotlib.figure.Figure at 0x7f74ac65df10>"
       ]
      }
     ],
     "prompt_number": 22
    },
    {
     "cell_type": "code",
     "collapsed": false,
     "input": [
      "import seaborn as sns\n",
      "from matplotlib.mlab import griddata\n",
      "#Contour plot of data.\n",
      "# For contour plor part, I consulted code with Layla Liu.\n",
      "data = pd.DataFrame(x2d, columns=(\"X\", \"Y\"))\n",
      "g=sns.jointplot(\"X\", \"Y\", data, kind=\"kde\", color=\"blue\")\n"
     ],
     "language": "python",
     "metadata": {},
     "outputs": [
      {
       "metadata": {},
       "output_type": "display_data",
       "png": "[encoded data removed]",
       "text": [
        "<matplotlib.figure.Figure at 0x7f74a8427f10>"
       ]
      }
     ],
     "prompt_number": 23
    },
    {
     "cell_type": "code",
     "collapsed": false,
     "input": [
      "# Plot of convergence trace superimposed on contour plot.\n",
      "sns.kdeplot(data.X, data.Y)\n",
      "plt.plot(pg[:,0], pg[:,1], 'b.')\n",
      "plt.plot(pf[:,0],pf[:,1],'r.')"
     ],
     "language": "python",
     "metadata": {},
     "outputs": [
      {
       "metadata": {},
       "output_type": "pyout",
       "prompt_number": 24,
       "text": [
        "[<matplotlib.lines.Line2D at 0x7f74a7f00350>]"
       ]
      },
      {
       "metadata": {},
       "output_type": "display_data",
       "png": "[encoded data removed]",
       "text": [
        "<matplotlib.figure.Figure at 0x7f74a804a910>"
       ]
      }
     ],
     "prompt_number": 24
    },
    {
     "cell_type": "code",
     "collapsed": false,
     "input": [],
     "language": "python",
     "metadata": {},
     "outputs": [],
     "prompt_number": 25
    },
    {
     "cell_type": "code",
     "collapsed": false,
     "input": [],
     "language": "python",
     "metadata": {},
     "outputs": [],
     "prompt_number": 25
    }
   ],
   "metadata": {}
  }
 ]
}