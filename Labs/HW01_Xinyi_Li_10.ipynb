{
 "metadata": {
  "name": "",
  "signature": "sha256:00e1de85215cf5787d4d5b72889a2929b1e815b941fed56335cae2ea55fb17ff"
 },
 "nbformat": 3,
 "nbformat_minor": 0,
 "worksheets": [
  {
   "cells": [
    {
     "cell_type": "code",
     "collapsed": false,
     "input": [
      "from IPython.display import Image"
     ],
     "language": "python",
     "metadata": {},
     "outputs": []
    },
    {
     "cell_type": "markdown",
     "metadata": {},
     "source": [
      "Computer lab\n",
      "----\n",
      "\n",
      "These exercises are designed to give you some practice coding in Python and proivde familiarity with the language syntax."
     ]
    },
    {
     "cell_type": "markdown",
     "metadata": {},
     "source": [
      "**Exercise 1 [10 pts]**. Write code to solve the [Project Euler puzzle 1](https://projecteuler.net/problems)"
     ]
    },
    {
     "cell_type": "code",
     "collapsed": false,
     "input": [
      "# Your code here\n",
      "\n",
      "# Create a list using criterian such that the item is multiple of 3 or 5, and then calculate the sum.\n",
      "Euler=[x for x in range(1000) if x%3==0 or x%5==0]\n",
      "print(sum(Euler))\n",
      "        \n"
     ],
     "language": "python",
     "metadata": {},
     "outputs": [
      {
       "output_type": "stream",
       "stream": "stdout",
       "text": [
        "233168\n"
       ]
      }
     ],
     "prompt_number": 18
    },
    {
     "cell_type": "markdown",
     "metadata": {},
     "source": [
      "**Exericse 2 [10 pts]**. Wikipedia gives the sample correlation coefficient formula as shown below. Write functions to calculate the sample mean, the sample standard deviation and the sample correlation coefficient. Calculate the sample correlation coefficent for the following lists of numbers:\n",
      "\n",
      "```python\n",
      "x = [10.0, 8.0, 13.0, 9.0, 11.0, 14.0, 6.0, 4.0, 12.0, 7.0, 5.0]\n",
      "y = [8.04, 6.95, 7.58, 8.81, 8.33, 9.96, 7.24, 4.26, 10.84, 4.82, 5.68]\n",
      "```\n",
      "\n",
      "Do NOT use `numpy`  functions - the idea is to code the functions yourself! The square root of $x$ can be calculated as ```x**0.5```."
     ]
    },
    {
     "cell_type": "code",
     "collapsed": false,
     "input": [
      "Image(url=\"http://upload.wikimedia.org/math/0/4/e/04e3ee493ddb1f01e03d8bf024fbd0a5.png\")"
     ],
     "language": "python",
     "metadata": {},
     "outputs": [
      {
       "html": [
        "<img src=\"http://upload.wikimedia.org/math/0/4/e/04e3ee493ddb1f01e03d8bf024fbd0a5.png\"/>"
       ],
       "metadata": {},
       "output_type": "pyout",
       "prompt_number": 3,
       "text": [
        "<IPython.core.display.Image at 0x1033e2e50>"
       ]
      }
     ],
     "prompt_number": 3
    },
    {
     "cell_type": "code",
     "collapsed": false,
     "input": [
      "Image(url=\"http://upload.wikimedia.org/math/7/0/d/70df5220933ae8298cd5ef1c719360bf.png\")"
     ],
     "language": "python",
     "metadata": {},
     "outputs": [
      {
       "html": [
        "<img src=\"http://upload.wikimedia.org/math/7/0/d/70df5220933ae8298cd5ef1c719360bf.png\"/>"
       ],
       "metadata": {},
       "output_type": "pyout",
       "prompt_number": 4,
       "text": [
        "<IPython.core.display.Image at 0x10369d310>"
       ]
      }
     ],
     "prompt_number": 4
    },
    {
     "cell_type": "code",
     "collapsed": false,
     "input": [
      "# Your code here\n",
      "x = [10.0, 8.0, 13.0, 9.0, 11.0, 14.0, 6.0, 4.0, 12.0, 7.0, 5.0]\n",
      "y = [8.04, 6.95, 7.58, 8.81, 8.33, 9.96, 7.24, 4.26, 10.84, 4.82, 5.68]\n",
      "\n",
      "# Each function calculates a statistic.\n",
      "def mean(a):\n",
      "    return(float(sum(a))/len(a))\n",
      "def sd(a):   \n",
      "    meana=mean(a)\n",
      "    diffa=0\n",
      "    for i in range(len(a)):\n",
      "        diffa=diffa+(meana-a[i])**2\n",
      "    sda=(diffa/(len(a)-1))**0.5\n",
      "    return(sda)\n",
      "    \n",
      "def corr(a,b):\n",
      "    meana=mean(a)\n",
      "    meanb=mean(b)\n",
      "    sda=sd(a)\n",
      "    sdb=sd(b)\n",
      "    cor=0\n",
      "    for i in range(len(a)):\n",
      "        cor=cor+((a[i]-meana)/sda)*((b[i]-meanb)/sdb)\n",
      "    corr=float(cor)/(len(a)-1)\n",
      "    return(corr)\n",
      "\n",
      "meanx=mean(x)\n",
      "meany=mean(y)\n",
      "sdx=sd(x)\n",
      "sdy=sd(y)\n",
      "corrxy=corr(x,y)\n",
      "\n",
      "print(\"mean of x is \",meanx)\n",
      "print(\"mean of y is \", meany)\n",
      "print(\"sd of x is \", sdx)\n",
      "print(\"sd of y is \", sdy)\n",
      "print(\"correlation between x and y is \",corrxy)\n",
      "\n",
      "\n",
      "\n",
      "\n",
      "\n"
     ],
     "language": "python",
     "metadata": {},
     "outputs": [
      {
       "output_type": "stream",
       "stream": "stdout",
       "text": [
        "('mean of x is ', 9.0)\n",
        "('mean of y is ', 7.500909090909093)\n",
        "('sd of x is ', 3.3166247903554)\n",
        "('sd of y is ', 2.031568135925815)\n",
        "('correlation between x and y is ', 0.8164205163448399)\n"
       ]
      }
     ],
     "prompt_number": 31
    },
    {
     "cell_type": "markdown",
     "metadata": {},
     "source": [
      "**Exercise 3** [10 pts]. Write a function to calculate hailstone numbers.\n",
      "\n",
      "Start with any positive integer (an initial seed) and obtain a sequence of numbers by following these rules.\n",
      "\n",
      "1. Base case: If the number is 1, stop.\n",
      "2. Recursvie case: If the current number is even, divide it by two; else if it is odd, multiply it by three and add one. \n",
      "\n",
      "The seqeunce of numbers obtained are known as *hailstone numbers* - although it is not proven that all sequences will eventually terminate with 1 (Collatz conjecture), no couter-example has yet been found. \n",
      "\n",
      "For example, starting with 7, we get the seuqence 7, 22, 11, 34, 17, 52, 26, 13, 40, 20, 10, 5, 16, 8, 4, 2, 1, 4, 2, 1.\n",
      "\n",
      "A recursive function to find the sequence of hailstone nummbers is given below. Write a *non-recursvie* version of the function that gives the same result. Using your function, what is the length of the sequeence obtained when we start with 23?\n",
      "\n",
      "```python\n",
      "def hailstone(n, acc=None):\n",
      "    \"\"\"Given a positive integer n, return the series of hailstone numbers.\"\"\"\n",
      "    if acc is None:\n",
      "        acc = []\n",
      "    acc.append(n)\n",
      "    if n == 1:\n",
      "        return acc\n",
      "    else:\n",
      "        if n%2 == 0:\n",
      "            return hailstone(n/2, acc)\n",
      "        else:\n",
      "            return hailstone(n*3 + 1, acc)\n",
      "```"
     ]
    },
    {
     "cell_type": "code",
     "collapsed": false,
     "input": [
      "# Your code here\n",
      "\n",
      "# Use while loop to iterate untile the last number = 1. \n",
      "#Use if-else statement to choose which action to take. \n",
      "#Count number of steps.\n",
      "def hailstone(num):\n",
      "    count=0\n",
      "    while num!=1:\n",
      "        if num%2==0:\n",
      "            num=num/2\n",
      "            count=count+1\n",
      "        else:\n",
      "            num=num*3+1\n",
      "            count=count+1\n",
      "    return(count)\n",
      "print(\"length of the sequence obtained when we start with 23 is \", hailstone(23))\n",
      "        \n",
      "\n",
      "\n"
     ],
     "language": "python",
     "metadata": {},
     "outputs": [
      {
       "output_type": "stream",
       "stream": "stdout",
       "text": [
        "('length of the sequence obtained when we start with 23 is ', 15)\n"
       ]
      }
     ],
     "prompt_number": 33
    },
    {
     "cell_type": "markdown",
     "metadata": {},
     "source": [
      "Exercise 4 [20 pts]. A Caesar cipher replaces each in a string with the letter k modulo 26 positions down. For example, with k=3, 'a' would become 'd', 'b' would become 'e' and so on. The Caesar cipher is very easy to crack, since the relative letter frequencies are preserved - that is, 'e' is the most commonly used English letter, so the most frequent letter in the cipher is likely to be the code for 'e'. We can download a large corpus of English text (e.g. a few books from Project Gutenberg), and estimate the individual letter frequencies. Using for example, a multinomial model where each letter is one of 26 possibiilites with frequencies given by the the previous estimates, and assuming that each letter is independent, we can simply go through all 26 possible values of k and choose the model with the highest likelihood. Or just use \u03c72 statistic to compare observed and expected frequencies.\n",
      "Have an extended exercise to write a Caesar encoder and code to crack the cipher.\n",
      "Writing the encoder/decoder:\n",
      "- Convert a sentence to lowercase\n",
      "- Write a function let2int to convert a lowercase letter to a number from 0 to 25\n",
      "    - Hint: look up ord() function\n",
      "- Write the reverse function int2let to convert a number to a lowercase letter\n",
      "    - Hint: look up chr() function\n",
      "- Write a functiton to encode a sentecne with shift k\n",
      "    - Hint: Use list comprehension with [ternary operator](https://docs.python.org/3.3/faq/programming.html#is-there-an-equivalent-of-c-s-ternary-operator) to check for lowercase letter\n",
      "- Write a function to decode a sentence with shfit k\n",
      "    - HInt: Use the ecnode function\n",
      "- Confirm that sentence = decode(encode(sentence))\n",
      "More hints for encoding/decoding:\n",
      "There are two slightly tricky aspects to encoding/decoding. First is that we want to convert any character into an integer in [0, 26). Because letters are ordered ('b' comes after 'a'), this can be done by subtracting ord('a') for the lowercase letters. After adding k, we need to take the number modulo 26 since the Caesar cipher \"wraps around\". Second is that this will only work for lowercase letters - so we need to pass along any characters that are not in 'a-z' unchanged.\n",
      "Writing the cracker:\n",
      "- Write a function to download a book from Project Gutenberg\n",
      "    - Hint: use\n",
      "    ```python\n",
      "    text = urllib2.urlopen('http://www.gutenberg.org/ebooks/1342.txt.utf-8').read()\n",
      "    ```\n",
      "- Write a fucntion to estimte letter frequencies in text\n",
      "    - Hint: recall various ways to count letters in a string from Lecture 1\n",
      "- Write a function to calculate the $\\chi^2$ statistic given observed and expected frequencies\n",
      "    - HInt: $\\chi^2 = \\sum_{i=1}{k} \\frac{(\\text{Observed} - \\text{Expected})^2}{\\text{Expected}}$\n",
      "- Write a cracker to deecode encrypted text by choosing the shift $k$ with the smallest $\\chi^2$ score\n",
      "    - Hint: xs.index(min(xs)) gives location of minimumn value in the list xs"
     ]
    },
    {
     "cell_type": "code",
     "collapsed": false,
     "input": [
      "# Your code here\n",
      "\n",
      "s = \"\"\"\n",
      "Write a program that prints the numbers from 1 to 100. \n",
      "But for multiples of three print 'Fizz' instead of the number and f\n",
      "or the multiples of five print 'Buzz'. For numbers which are \n",
      "multiples of both three and five print 'FizzBuzz'\n",
      "\"\"\"\n",
      "\n",
      "# Writing the encoder/decoder\n",
      "#1.\n",
      "lowers=s.lower()\n",
      "print lowers\n",
      "#2.\n",
      "def let2int(s):\n",
      "    return(ord(s)-97)\n",
      "\n",
      "print(let2int('a'))\n",
      "#3.\n",
      "def int2let(s):\n",
      "    return(chr(s+97))\n",
      "print(int2let(0))\n",
      "#4.\n",
      "# Create two lists, one is original characters, the other is lowercase characters.\n",
      "# Select letters to be encoded using the lowercase list.\n",
      "# Decide either letters should be upper/lower-case using the original list.\n",
      "# In the end, convert the list to a string.\n",
      "def encode(s,k):\n",
      "    character=[x for x in s]\n",
      "    temp=s.lower()\n",
      "    cha=[x for x in temp]\n",
      "    for i in range(0,len(character)):\n",
      "        if 96<ord(cha[i])<123:\n",
      "            cha[i]=chr((ord(character[i])+k-97)%26+97) if 96<ord(character[i])<123 else chr((ord(character[i])+k-65)%26+65)\n",
      "    return(''.join(cha))\n",
      "print encode(s,1)\n",
      "\n",
      "\n",
      "# This is a reverse function of encode().\n",
      "def decode(s,k):\n",
      "    a=encode(s,26-k)\n",
      "    return(a)\n",
      "print decode(s,1)\n",
      "\n",
      "print decode(encode(s,1),1)\n",
      "\n",
      "# If want the sentence in lower case\n",
      "print decode(encode(s,1),1).lower()\n",
      "\n",
      "\n",
      "# Writing the craker\n",
      "import string\n",
      "import collections\n",
      "# Download text.\n",
      "def openbook():\n",
      "    text=open('book.txt').read()\n",
      "    return(text)\n",
      "text=openbook()\n",
      "# Calculating the frequency of each letter.\n",
      "# First transform the text into lowercase and remove punctuations.\n",
      "# After generating the frequency, divide each by the total counts to get the probability.\n",
      "def freq(text):\n",
      "    text=text.lower().translate(None,string.punctuation)\n",
      "    c = collections.Counter(text)\n",
      "    total=sum(c.values())\n",
      "    for key, value in c.items():\n",
      "        c[key]=float(value)/float(total)\n",
      "    return(c)\n",
      "print(freq(text))\n",
      "# Calculating Chi-Squared statistic.\n",
      "# Expected values are from www.data-compression.com/english.html\n",
      "def chi2(text):\n",
      "    exp=[0.0651738, 0.0124248, 0.0217339, 0.0349835, 0.1041442, 0.0197881, 0.0158610, 0.0492888,\n",
      "        0.0558094, 0.0009033, 0.0050529, 0.0331490, 0.0202124, 0.0564513, 0.0596302, 0.0137645,\n",
      "        0.0008606, 0.0497563, 0.0515760, 0.0729357, 0.0225134, 0.0082903, 0.0171272, 0.0013692,\n",
      "        0.0145984, 0.0007836]\n",
      "    ab=string.lowercase\n",
      "    xs=0\n",
      "    fre=freq(text)\n",
      "    for x in ab:\n",
      "        xs=xs+(fre[x]-exp[ord(x)-97])**2/exp[ord(x)-97]\n",
      "    return(xs)\n",
      "# Calculate the decoding index k by choosing k that minimize the Chi-Square statistic.\n",
      "def craker(text):\n",
      "    xs=[]\n",
      "    for k in range(0,26):\n",
      "        xs.append(chi2(decode(text,k)))\n",
      "    print(xs)\n",
      "    return(xs.index(min(xs)))\n",
      "\n",
      "# For example, encode text with k=13\n",
      "test=encode(text,13)\n",
      "print craker(test)\n",
      "# Craker returns that should decode the text using k=13"
     ],
     "language": "python",
     "metadata": {},
     "outputs": [
      {
       "output_type": "stream",
       "stream": "stdout",
       "text": [
        "\n",
        "write a program that prints the numbers from 1 to 100. \n",
        "but for multiples of three print 'fizz' instead of the number and f\n",
        "or the multiples of five print 'buzz'. for numbers which are \n",
        "multiples of both three and five print 'fizzbuzz'\n",
        "\n",
        "0\n",
        "a\n",
        "\n",
        "Xsjuf b qsphsbn uibu qsjout uif ovncfst gspn 1 up 100. \n",
        "Cvu gps nvmujqmft pg uisff qsjou 'Gjaa' jotufbe pg uif ovncfs boe g\n",
        "ps uif nvmujqmft pg gjwf qsjou 'Cvaa'. Gps ovncfst xijdi bsf \n",
        "nvmujqmft pg cpui uisff boe gjwf qsjou 'GjaaCvaa'\n",
        "\n",
        "\n",
        "Vqhsd z oqnfqzl sgzs oqhmsr sgd mtladqr eqnl 1 sn 100. \n",
        "Ats enq ltkshokdr ne sgqdd oqhms 'Ehyy' hmrsdzc ne sgd mtladq zmc e\n",
        "nq sgd ltkshokdr ne ehud oqhms 'Atyy'. Enq mtladqr vghbg zqd \n",
        "ltkshokdr ne ansg sgqdd zmc ehud oqhms 'EhyyAtyy'\n",
        "\n",
        "\n",
        "Write a program that prints the numbers from 1 to 100. \n",
        "But for multiples of three print 'Fizz' instead of the number and f\n",
        "or the multiples of five print 'Buzz'. For numbers which are \n",
        "multiples of both three and five print 'FizzBuzz'\n",
        "\n",
        "\n",
        "write a program that prints the numbers from 1 to 100. \n",
        "but for multiples of three print 'fizz' instead of the number and f\n",
        "or the multiples of five print 'buzz'. for numbers which are \n",
        "multiples of both three and five print 'fizzbuzz'\n",
        "\n",
        "Counter({' ': 0.16444780613563173, 'e': 0.10276815060633136, 't': 0.06951483386332898, 'a': 0.06162769045560378, 'o': 0.05972952179140931, 'i': 0.05621754889408219, 'n': 0.05589421065774792, 'h': 0.049918227182641356, 's': 0.04889047350286457, 'r': 0.048307309898047414, 'd': 0.03297328273474861, 'l': 0.03185892059881087, 'u': 0.022385398969070675, 'm': 0.021831104849640504, 'c': 0.02029669170132208, '\\n': 0.0193800855402852, '\\r': 0.0193800855402852, 'y': 0.01881280015243088, 'w': 0.018148801988530153, 'f': 0.017874541877353767, 'g': 0.015074201794815906, 'b': 0.013515249583918542, 'p': 0.012533687080760941, 'v': 0.008429889733000564, 'k': 0.004824091008165734, 'j': 0.0014001700412689293, 'z': 0.001353978864649748, 'x': 0.00125149219152594, 'q': 0.0009209365838449247, '1': 0.00011980836435600117, '2': 5.052159942722941e-05, '3': 4.7634650888530585e-05, '4': 4.3304228080482355e-05, '5': 4.186075381113294e-05, '0': 3.7530331003084705e-05, '6': 2.598253684828941e-05, '8': 2.598253684828941e-05, '9': 2.453906257894e-05, '7': 1.732169123219294e-05, '\\xef': 1.4434742693494116e-06, '\\xbb': 1.4434742693494116e-06, '\\xbf': 1.4434742693494116e-06})"
       ]
      },
      {
       "output_type": "stream",
       "stream": "stdout",
       "text": [
        "\n",
        "[3.1647679584831145, 17.224425975882905, 6.429728351737351, 3.9394255410489296, 10.08261489278041, 8.175267732942347, 4.540125733852571, 11.221929039528277, 15.585599658402042, 4.987634209379663, 5.726238763928096, 8.749994056849438, 5.257135652907283, 0.0033843773889951343, 8.309250069263273, 5.208605582718331, 10.765881379797401, 6.524826788631958, 18.246593682026933, 2.7654512551083523, 8.830454065994646, 7.6011269103229075, 8.990820749142049, 12.014066756422412, 3.5715016446102203, 2.7601382220231625]"
       ]
      },
      {
       "output_type": "stream",
       "stream": "stdout",
       "text": [
        "\n",
        "13\n"
       ]
      }
     ],
     "prompt_number": 11
    },
    {
     "cell_type": "code",
     "collapsed": false,
     "input": [],
     "language": "python",
     "metadata": {},
     "outputs": []
    },
    {
     "cell_type": "code",
     "collapsed": false,
     "input": [],
     "language": "python",
     "metadata": {},
     "outputs": []
    }
   ],
   "metadata": {}
  }
 ]
}