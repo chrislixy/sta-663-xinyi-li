{
 "metadata": {
  "name": "",
  "signature": "sha256:6de1c6f93e87d77d75db0f259a545351a0051470a28e5135dfe473824aac8711"
 },
 "nbformat": 3,
 "nbformat_minor": 0,
 "worksheets": [
  {
   "cells": [
    {
     "cell_type": "code",
     "collapsed": false,
     "input": [
      "!rm -r Labs"
     ],
     "language": "python",
     "metadata": {},
     "outputs": [],
     "prompt_number": 4
    },
    {
     "cell_type": "code",
     "collapsed": false,
     "input": [
      "!git pull"
     ],
     "language": "python",
     "metadata": {},
     "outputs": [
      {
       "output_type": "stream",
       "stream": "stdout",
       "text": [
        "Already up-to-date.\r\n"
       ]
      }
     ],
     "prompt_number": 7
    },
    {
     "cell_type": "code",
     "collapsed": false,
     "input": [
      "!git stash"
     ],
     "language": "python",
     "metadata": {},
     "outputs": [
      {
       "output_type": "stream",
       "stream": "stdout",
       "text": [
        "Saved working directory and index state WIP on master: c53278d remove useless files, add yanyu's lecture 1 answer\r\n",
        "HEAD is now at c53278d remove useless files, add yanyu's lecture 1 answer\r\n"
       ]
      }
     ],
     "prompt_number": 6
    },
    {
     "cell_type": "code",
     "collapsed": false,
     "input": [
      "!git clone https://github.com/cliburn/STA663-2015"
     ],
     "language": "python",
     "metadata": {},
     "outputs": [
      {
       "output_type": "stream",
       "stream": "stdout",
       "text": [
        "Cloning into 'STA663-2015'...\r\n"
       ]
      },
      {
       "output_type": "stream",
       "stream": "stdout",
       "text": [
        "remote: Counting objects: 452, done.\u001b[K\r\n",
        "remote: Compressing objects:   3% (1/31)   \u001b[K\r",
        "remote: Compressing objects:   6% (2/31)   \u001b[K\r",
        "remote: Compressing objects:   9% (3/31)   \u001b[K\r",
        "remote: Compressing objects:  12% (4/31)   \u001b[K\r",
        "remote: Compressing objects:  16% (5/31)   \u001b[K\r",
        "remote: Compressing objects:  19% (6/31)   \u001b[K\r",
        "remote: Compressing objects:  22% (7/31)   \u001b[K\r",
        "remote: Compressing objects:  25% (8/31)   \u001b[K\r",
        "remote: Compressing objects:  29% (9/31)   \u001b[K\r",
        "remote: Compressing objects:  32% (10/31)   \u001b[K\r",
        "remote: Compressing objects:  35% (11/31)   \u001b[K\r",
        "remote: Compressing objects:  38% (12/31)   \u001b[K\r",
        "remote: Compressing objects:  41% (13/31)   \u001b[K\r",
        "remote: Compressing objects:  45% (14/31)   \u001b[K\r",
        "remote: Compressing objects:  48% (15/31)   \u001b[K\r",
        "remote: Compressing objects:  51% (16/31)   \u001b[K\r",
        "remote: Compressing objects:  54% (17/31)   \u001b[K\r",
        "remote: Compressing objects:  58% (18/31)   \u001b[K\r",
        "remote: Compressing objects:  61% (19/31)   \u001b[K\r",
        "remote: Compressing objects:  64% (20/31)   \u001b[K\r",
        "remote: Compressing objects:  67% (21/31)   \u001b[K\r",
        "remote: Compressing objects:  70% (22/31)   \u001b[K\r",
        "remote: Compressing objects:  74% (23/31)   \u001b[K\r",
        "remote: Compressing objects:  77% (24/31)   \u001b[K\r",
        "remote: Compressing objects:  80% (25/31)   \u001b[K\r",
        "remote: Compressing objects:  83% (26/31)   \u001b[K\r",
        "remote: Compressing objects:  87% (27/31)   \u001b[K\r",
        "remote: Compressing objects:  90% (28/31)   \u001b[K\r",
        "remote: Compressing objects:  93% (29/31)   \u001b[K\r",
        "remote: Compressing objects:  96% (30/31)   \u001b[K\r",
        "remote: Compressing objects: 100% (31/31)   \u001b[K\r",
        "remote: Compressing objects: 100% (31/31), done.\u001b[K\r\n",
        "Receiving objects:   0% (1/452)   \r",
        "Receiving objects:   1% (5/452)   \r",
        "Receiving objects:   2% (10/452)   \r",
        "Receiving objects:   3% (14/452)   \r",
        "Receiving objects:   4% (19/452)   \r",
        "Receiving objects:   5% (23/452)   \r",
        "Receiving objects:   6% (28/452)   \r",
        "Receiving objects:   7% (32/452)   \r",
        "Receiving objects:   8% (37/452)   \r",
        "Receiving objects:   9% (41/452)   \r",
        "Receiving objects:  10% (46/452)   \r"
       ]
      },
      {
       "output_type": "stream",
       "stream": "stdout",
       "text": [
        "Receiving objects:  11% (50/452)   \r",
        "Receiving objects:  12% (55/452)   \r",
        "Receiving objects:  13% (59/452)   \r",
        "Receiving objects:  14% (64/452)   \r",
        "Receiving objects:  15% (68/452)   \r",
        "Receiving objects:  16% (73/452)   \r",
        "Receiving objects:  17% (77/452)   \r"
       ]
      },
      {
       "output_type": "stream",
       "stream": "stdout",
       "text": [
        "Receiving objects:  18% (82/452)   \r",
        "Receiving objects:  19% (86/452)   \r",
        "Receiving objects:  20% (91/452)   \r",
        "Receiving objects:  21% (95/452)   \r",
        "Receiving objects:  22% (100/452)   \r"
       ]
      },
      {
       "output_type": "stream",
       "stream": "stdout",
       "text": [
        "Receiving objects:  23% (104/452)   \r"
       ]
      },
      {
       "output_type": "stream",
       "stream": "stdout",
       "text": [
        "Receiving objects:  24% (109/452), 1.18 MiB | 2.35 MiB/s   \r"
       ]
      },
      {
       "output_type": "stream",
       "stream": "stdout",
       "text": [
        "Receiving objects:  25% (113/452), 1.18 MiB | 2.35 MiB/s   \r",
        "Receiving objects:  26% (118/452), 1.18 MiB | 2.35 MiB/s   \r"
       ]
      },
      {
       "output_type": "stream",
       "stream": "stdout",
       "text": [
        "Receiving objects:  27% (123/452), 1.18 MiB | 2.35 MiB/s   \r"
       ]
      },
      {
       "output_type": "stream",
       "stream": "stdout",
       "text": [
        "Receiving objects:  27% (123/452), 4.89 MiB | 4.87 MiB/s   \r"
       ]
      },
      {
       "output_type": "stream",
       "stream": "stdout",
       "text": [
        "Receiving objects:  28% (127/452), 4.89 MiB | 4.87 MiB/s   \r",
        "Receiving objects:  29% (132/452), 4.89 MiB | 4.87 MiB/s   \r",
        "Receiving objects:  30% (136/452), 4.89 MiB | 4.87 MiB/s   \r",
        "Receiving objects:  31% (141/452), 4.89 MiB | 4.87 MiB/s   \r",
        "Receiving objects:  32% (145/452), 4.89 MiB | 4.87 MiB/s   \r",
        "Receiving objects:  33% (150/452), 4.89 MiB | 4.87 MiB/s   \r",
        "Receiving objects:  34% (154/452), 4.89 MiB | 4.87 MiB/s   \r",
        "Receiving objects:  35% (159/452), 4.89 MiB | 4.87 MiB/s   \r"
       ]
      },
      {
       "output_type": "stream",
       "stream": "stdout",
       "text": [
        "Receiving objects:  36% (163/452), 4.89 MiB | 4.87 MiB/s   \r",
        "Receiving objects:  37% (168/452), 4.89 MiB | 4.87 MiB/s   \r"
       ]
      },
      {
       "output_type": "stream",
       "stream": "stdout",
       "text": [
        "Receiving objects:  38% (172/452), 4.89 MiB | 4.87 MiB/s   \r",
        "Receiving objects:  39% (177/452), 4.89 MiB | 4.87 MiB/s   \r",
        "Receiving objects:  40% (181/452), 4.89 MiB | 4.87 MiB/s   \r",
        "Receiving objects:  41% (186/452), 4.89 MiB | 4.87 MiB/s   \r",
        "Receiving objects:  42% (190/452), 4.89 MiB | 4.87 MiB/s   \r",
        "Receiving objects:  43% (195/452), 4.89 MiB | 4.87 MiB/s   \r",
        "Receiving objects:  44% (199/452), 4.89 MiB | 4.87 MiB/s   \r",
        "Receiving objects:  45% (204/452), 4.89 MiB | 4.87 MiB/s   \r",
        "Receiving objects:  46% (208/452), 4.89 MiB | 4.87 MiB/s   \r",
        "Receiving objects:  47% (213/452), 4.89 MiB | 4.87 MiB/s   \r",
        "Receiving objects:  48% (217/452), 4.89 MiB | 4.87 MiB/s   \r",
        "Receiving objects:  49% (222/452), 4.89 MiB | 4.87 MiB/s   \r",
        "Receiving objects:  50% (226/452), 4.89 MiB | 4.87 MiB/s   \r",
        "Receiving objects:  51% (231/452), 4.89 MiB | 4.87 MiB/s   \r",
        "Receiving objects:  52% (236/452), 4.89 MiB | 4.87 MiB/s   \r",
        "Receiving objects:  53% (240/452), 4.89 MiB | 4.87 MiB/s   \r",
        "Receiving objects:  54% (245/452), 4.89 MiB | 4.87 MiB/s   \r",
        "Receiving objects:  55% (249/452), 4.89 MiB | 4.87 MiB/s   \r",
        "Receiving objects:  56% (254/452), 4.89 MiB | 4.87 MiB/s   \r",
        "Receiving objects:  57% (258/452), 4.89 MiB | 4.87 MiB/s   \r",
        "Receiving objects:  58% (263/452), 4.89 MiB | 4.87 MiB/s   \r",
        "Receiving objects:  59% (267/452), 4.89 MiB | 4.87 MiB/s   \r",
        "Receiving objects:  60% (272/452), 4.89 MiB | 4.87 MiB/s   \r",
        "Receiving objects:  61% (276/452), 4.89 MiB | 4.87 MiB/s   \r",
        "Receiving objects:  62% (281/452), 4.89 MiB | 4.87 MiB/s   \r",
        "Receiving objects:  63% (285/452), 4.89 MiB | 4.87 MiB/s   \r",
        "Receiving objects:  64% (290/452), 4.89 MiB | 4.87 MiB/s   \r",
        "Receiving objects:  65% (294/452), 4.89 MiB | 4.87 MiB/s   \r",
        "Receiving objects:  66% (299/452), 4.89 MiB | 4.87 MiB/s   \r",
        "Receiving objects:  67% (303/452), 4.89 MiB | 4.87 MiB/s   \r",
        "Receiving objects:  68% (308/452), 4.89 MiB | 4.87 MiB/s   \r",
        "Receiving objects:  69% (312/452), 4.89 MiB | 4.87 MiB/s   \r",
        "Receiving objects:  70% (317/452), 4.89 MiB | 4.87 MiB/s   \r",
        "Receiving objects:  71% (321/452), 4.89 MiB | 4.87 MiB/s   \r",
        "Receiving objects:  72% (326/452), 4.89 MiB | 4.87 MiB/s   \r",
        "Receiving objects:  73% (330/452), 4.89 MiB | 4.87 MiB/s   \r",
        "Receiving objects:  74% (335/452), 4.89 MiB | 4.87 MiB/s   \r",
        "Receiving objects:  75% (339/452), 4.89 MiB | 4.87 MiB/s   \r",
        "Receiving objects:  76% (344/452), 4.89 MiB | 4.87 MiB/s   \r",
        "Receiving objects:  77% (349/452), 4.89 MiB | 4.87 MiB/s   \r",
        "Receiving objects:  78% (353/452), 4.89 MiB | 4.87 MiB/s   \r",
        "Receiving objects:  79% (358/452), 4.89 MiB | 4.87 MiB/s   \r",
        "Receiving objects:  80% (362/452), 4.89 MiB | 4.87 MiB/s   \r",
        "Receiving objects:  81% (367/452), 4.89 MiB | 4.87 MiB/s   \r",
        "Receiving objects:  82% (371/452), 4.89 MiB | 4.87 MiB/s   \r",
        "Receiving objects:  83% (376/452), 4.89 MiB | 4.87 MiB/s   \r",
        "Receiving objects:  84% (380/452), 4.89 MiB | 4.87 MiB/s   \r",
        "Receiving objects:  85% (385/452), 4.89 MiB | 4.87 MiB/s   \r",
        "Receiving objects:  86% (389/452), 4.89 MiB | 4.87 MiB/s   \r",
        "Receiving objects:  87% (394/452), 4.89 MiB | 4.87 MiB/s   \r",
        "Receiving objects:  88% (398/452), 4.89 MiB | 4.87 MiB/s   \r",
        "Receiving objects:  89% (403/452), 4.89 MiB | 4.87 MiB/s   \r",
        "Receiving objects:  90% (407/452), 4.89 MiB | 4.87 MiB/s   \r",
        "Receiving objects:  91% (412/452), 4.89 MiB | 4.87 MiB/s   \r",
        "Receiving objects:  92% (416/452), 4.89 MiB | 4.87 MiB/s   \r",
        "Receiving objects:  93% (421/452), 4.89 MiB | 4.87 MiB/s   \r",
        "Receiving objects:  94% (425/452), 4.89 MiB | 4.87 MiB/s   \r",
        "Receiving objects:  95% (430/452), 4.89 MiB | 4.87 MiB/s   \r",
        "Receiving objects:  96% (434/452), 4.89 MiB | 4.87 MiB/s   \r",
        "remote: Total 452 (delta 12), reused 0 (delta 0)\u001b[K\r\n"
       ]
      },
      {
       "output_type": "stream",
       "stream": "stdout",
       "text": [
        "Receiving objects:  97% (439/452), 4.89 MiB | 4.87 MiB/s   \r",
        "Receiving objects:  98% (443/452), 4.89 MiB | 4.87 MiB/s   \r",
        "Receiving objects:  99% (448/452), 4.89 MiB | 4.87 MiB/s   \r",
        "Receiving objects: 100% (452/452), 4.89 MiB | 4.87 MiB/s   \r",
        "Receiving objects: 100% (452/452), 10.44 MiB | 4.87 MiB/s, done.\r\n",
        "Resolving deltas:   0% (0/187)   \r",
        "Resolving deltas:   6% (12/187)   \r",
        "Resolving deltas:   7% (14/187)   \r",
        "Resolving deltas:   9% (18/187)   \r",
        "Resolving deltas:  10% (19/187)   \r",
        "Resolving deltas:  12% (23/187)   \r",
        "Resolving deltas:  13% (26/187)   \r",
        "Resolving deltas:  15% (29/187)   \r",
        "Resolving deltas:  17% (33/187)   \r",
        "Resolving deltas:  20% (38/187)   \r",
        "Resolving deltas:  22% (42/187)   \r",
        "Resolving deltas:  24% (45/187)   \r",
        "Resolving deltas:  26% (49/187)   \r",
        "Resolving deltas:  28% (53/187)   \r",
        "Resolving deltas:  32% (60/187)   \r",
        "Resolving deltas:  33% (63/187)   \r",
        "Resolving deltas:  35% (66/187)   \r",
        "Resolving deltas:  36% (68/187)   \r",
        "Resolving deltas:  37% (70/187)   \r",
        "Resolving deltas:  38% (72/187)   \r",
        "Resolving deltas:  39% (73/187)   \r",
        "Resolving deltas:  40% (75/187)   \r",
        "Resolving deltas:  41% (77/187)   \r",
        "Resolving deltas:  59% (112/187)   \r",
        "Resolving deltas:  60% (113/187)   \r",
        "Resolving deltas:  63% (118/187)   \r",
        "Resolving deltas:  64% (120/187)   \r",
        "Resolving deltas:  69% (130/187)   \r",
        "Resolving deltas:  71% (133/187)   \r",
        "Resolving deltas:  72% (135/187)   \r",
        "Resolving deltas:  74% (139/187)   \r",
        "Resolving deltas:  81% (153/187)   \r",
        "Resolving deltas:  82% (154/187)   \r",
        "Resolving deltas:  83% (157/187)   \r",
        "Resolving deltas:  84% (158/187)   \r",
        "Resolving deltas:  90% (170/187)   \r",
        "Resolving deltas:  92% (173/187)   \r",
        "Resolving deltas:  93% (174/187)   \r",
        "Resolving deltas:  95% (178/187)   \r",
        "Resolving deltas:  97% (182/187)   \r",
        "Resolving deltas:  99% (186/187)   \r",
        "Resolving deltas: 100% (187/187)   \r",
        "Resolving deltas: 100% (187/187), done.\r\n"
       ]
      },
      {
       "output_type": "stream",
       "stream": "stdout",
       "text": [
        "Checking connectivity... done.\r\n"
       ]
      }
     ],
     "prompt_number": 1
    },
    {
     "cell_type": "code",
     "collapsed": false,
     "input": [],
     "language": "python",
     "metadata": {},
     "outputs": []
    }
   ],
   "metadata": {}
  }
 ]
}